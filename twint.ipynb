{
 "cells": [
  {
   "cell_type": "code",
   "execution_count": 1,
   "metadata": {},
   "outputs": [],
   "source": [
    "import twint\n",
    "\n",
    "import nest_asyncio\n",
    "nest_asyncio.apply() # Solve compatibility issues with notebooks and RunTime errors.4\n",
    "\n",
    "c = twint.Config()"
   ]
  },
  {
   "cell_type": "markdown",
   "metadata": {},
   "source": [
    "- twint.run.Search()    - Fetch Tweets using the search filters (Normal);\n",
    "- twint.run.Followers() - Fetch a Twitter user's followers;\n",
    "- twint.run.Following() - Fetch who follows a Twitter user;\n",
    "- twint.run.Favorites() - Fetch Tweets a Twitter user has liked;\n",
    "- twint.run.Profile()   - Fetch Tweets from a user's profile (Includes retweets);\n",
    "- twint.run.Lookup()    - Fetch informations from a user's profile (bio, location, etc.)."
   ]
  },
  {
   "cell_type": "markdown",
   "metadata": {},
   "source": [
    "#### 1.  twint.run.Search()    - Fetch Tweets using the search filters (Normal);"
   ]
  },
  {
   "cell_type": "code",
   "execution_count": 2,
   "metadata": {
    "scrolled": true
   },
   "outputs": [
    {
     "name": "stdout",
     "output_type": "stream",
     "text": [
      "Username: conikeec | date: 2011-12-30 \n",
      "Username: LifeisData | date: 2011-12-30 \n",
      "Username: dfinke | date: 2011-12-29 \n",
      "Username: JBezivin | date: 2011-12-29 \n",
      "Username: JBezivin | date: 2011-12-29 \n",
      "Username: MarnieLandon | date: 2011-12-28 \n",
      "Username: lifewhitecloud | date: 2011-12-28 \n",
      "Username: kidehen | date: 2011-12-28 \n",
      "Username: DigitalMktg2 | date: 2011-12-28 \n",
      "Username: d8Pit | date: 2011-12-27 \n",
      "Username: sfrechette | date: 2011-12-27 \n",
      "Username: paulcan | date: 2011-12-26 \n",
      "Username: d8Pit | date: 2011-12-26 \n",
      "Username: danibertocchi | date: 2011-12-26 \n",
      "Username: d8Pit | date: 2011-12-26 \n",
      "Username: strataconf | date: 2011-12-26 \n",
      "Username: statslab | date: 2011-12-26 \n",
      "Username: akastrin | date: 2011-12-26 \n",
      "Username: MaxLikG | date: 2011-12-26 \n",
      "Username: Tecnoetica | date: 2011-12-24 \n"
     ]
    }
   ],
   "source": [
    "# equivalent to `-s` bitcoin\n",
    "c.Search = \"#Datascience\"\n",
    "\n",
    "tweets = []\n",
    "c.Year = 2012\n",
    "# Custom output format\n",
    "c.Format = \"Username: {username} | date: {date} \"\n",
    "c.Limit = 2\n",
    "\n",
    "#c.Store_csv = True\n",
    "#c.Output = \"twitter\"\n",
    "c.Store_object = True\n",
    "c.Store_object_tweets_list = tweets\n",
    "\n",
    "twint.run.Search(c)"
   ]
  },
  {
   "cell_type": "code",
   "execution_count": 3,
   "metadata": {},
   "outputs": [
    {
     "name": "stdout",
     "output_type": "stream",
     "text": [
      "conikeec\n",
      "lifeisdata\n",
      "dfinke\n",
      "jbezivin\n",
      "jbezivin\n",
      "marnielandon\n",
      "lifewhitecloud\n",
      "kidehen\n",
      "digitalmktg2\n",
      "d8pit\n",
      "sfrechette\n",
      "paulcan\n",
      "d8pit\n",
      "danibertocchi\n",
      "d8pit\n",
      "strataconf\n",
      "statslab\n",
      "akastrin\n",
      "maxlikg\n",
      "tecnoetica\n"
     ]
    }
   ],
   "source": [
    "for i in range(len(tweets)):\n",
    "    print(tweets[i].username)"
   ]
  },
  {
   "cell_type": "code",
   "execution_count": null,
   "metadata": {},
   "outputs": [],
   "source": [
    "\n",
    "\n",
    "\n",
    "\n",
    "\n",
    "\n",
    "twint.run.Followers()"
   ]
  },
  {
   "cell_type": "code",
   "execution_count": 4,
   "metadata": {},
   "outputs": [],
   "source": [
    "df = pd.DataFrame()"
   ]
  },
  {
   "cell_type": "code",
   "execution_count": 3,
   "metadata": {},
   "outputs": [
    {
     "ename": "NameError",
     "evalue": "name 'tweet' is not defined",
     "output_type": "error",
     "traceback": [
      "\u001b[1;31m---------------------------------------------------------------------------\u001b[0m",
      "\u001b[1;31mNameError\u001b[0m                                 Traceback (most recent call last)",
      "\u001b[1;32m<ipython-input-3-f359a5040e7c>\u001b[0m in \u001b[0;36m<module>\u001b[1;34m\u001b[0m\n\u001b[1;32m----> 1\u001b[1;33m \u001b[0mtweet\u001b[0m\u001b[1;33m\u001b[0m\u001b[1;33m\u001b[0m\u001b[0m\n\u001b[0m",
      "\u001b[1;31mNameError\u001b[0m: name 'tweet' is not defined"
     ]
    }
   ],
   "source": []
  },
  {
   "cell_type": "code",
   "execution_count": null,
   "metadata": {},
   "outputs": [],
   "source": []
  },
  {
   "cell_type": "code",
   "execution_count": null,
   "metadata": {},
   "outputs": [],
   "source": []
  },
  {
   "cell_type": "code",
   "execution_count": 2,
   "metadata": {},
   "outputs": [
    {
     "name": "stdout",
     "output_type": "stream",
     "text": [
      "1044214715302334464 2018-09-24 08:19:23 Central Daylight Time <thetanmay> Thank you man!\n",
      "1039773590848196609 2018-09-12 02:11:56 Central Daylight Time <thetanmay> Thank you for your calm lucid response. I recognize the problem a little better now.\n",
      "1039772971328520193 2018-09-12 02:09:29 Central Daylight Time <thetanmay> I had a family to support me during my unpaid internship period. My privilege has been checked, thank you.   Further, a) if somebody isn't valueing the work of an intern, would you still want to join that place. B) is it industry standard to pay interns across the board?\n",
      "1006817075585830912 2018-06-13 03:34:31 Central Daylight Time <thetanmay> Thank you, some amazing suggestions and lots of people reached out personally and went out of their way to suggest things, thank you thank you.\n",
      "997426003130634240 2018-05-18 05:37:45 Central Daylight Time <thetanmay> @DelhiPolice this is an open physical threat for me. Please do look into it. Thank you.\n",
      "974873225997049856 2018-03-17 00:01:04 Central Daylight Time <thetanmay> Love love love love thank you thank you thank you. For always trying to message. Sorry I never spotted it. :)\n",
      "963824986598313984 2018-02-14 11:19:18 Central Daylight Time <thetanmay> I hope the 5000 of you who showed up felt a little less lonely, little more happy and a little more fun Valentine's Day than you expected :) Thank you for being silly with us. See you again next year.  pic.twitter.com/bNLvPFCXMA\n",
      "960446661880360960 2018-02-05 03:35:03 Central Daylight Time <thetanmay> This is a thank you tweet to @Zakirism for introducing me to Punjabi music. Itne saalo se main kya kya miss kar raha hoo.\n",
      "928143280537206785 2017-11-08 00:12:56 Central Daylight Time <thetanmay> If you've ever loved a video, thank these awesome crazy people I work with.  https://twitter.com/allindiabakchod/status/928142755209113600 …\n",
      "921323386453839872 2017-10-20 05:33:07 Central Daylight Time <thetanmay> AIB is a bit of a boys club, I am aware, and I can promise I am trying to change that. Thank you for pointing it out.\n",
      "919087086485065728 2017-10-14 01:26:51 Central Daylight Time <thetanmay> And thank you too Sheena.\n",
      "914071156323438593 2017-09-30 05:15:20 Central Daylight Time <thetanmay> thank you for registering complaint, and calling me to receive details. Do tell when action is taken for this physical threat.\n",
      "879288195627835392 2017-06-26 05:40:16 Central Daylight Time <thetanmay> Thank you sir! Aapke saath jald kaam karna hai\n",
      "867241112888647680 2017-05-23 23:49:28 Central Daylight Time <thetanmay> Thank you @Sequoia_India for giving me that audience yesterday. More VC's should do this kinda off the record candid marketing insight chats\n",
      "862925319480778753 2017-05-12 02:00:03 Central Daylight Time <thetanmay> Cant thank Uday Shankar enough. You entertained the desires of a bunch of silly kids who said they wanted to do a news comedy show -\n",
      "862923850526470145 2017-05-12 01:54:12 Central Daylight Time <thetanmay> Thank you @hotstartweets - for consistently backing a project that's not only tough to make but also risky.\n",
      "856545786997473282 2017-04-24 11:30:04 Central Daylight Time <thetanmay> @sachin_rt hbd sir. Thank you for making my childhood. You are a legend. an inspiration. irrespective of the jokes, I will always love you.\n",
      "822339557878329344 2017-01-20 01:06:43 Central Daylight Time <thetanmay> Thank you @MikeyMcCleary1 for TV Dinners.\n",
      "821056476559134721 2017-01-16 12:08:13 Central Daylight Time <thetanmay> thank you uncle, aap bhi bade sweet hk\n",
      "819107890183213056 2017-01-11 03:05:13 Central Daylight Time <thetanmay> How cool is this! Babu sir left a comment on the @SnGComedyIN podcast - @babubasu thank you for clarifying. The stories of KBC are legend!  pic.twitter.com/UG2jqsDVZ5\n",
      "818090847082283009 2017-01-08 07:43:51 Central Daylight Time <thetanmay> thank you for the reply :)\n",
      "811841714088509440 2016-12-22 01:52:02 Central Daylight Time <thetanmay> thank you\n",
      "810526688614285313 2016-12-18 10:46:36 Central Daylight Time <thetanmay> thank you Kanika\n",
      "800630683089727489 2016-11-21 03:23:24 Central Daylight Time <thetanmay> *upload video*   *promote it*   *thank fans for millions of views*\n",
      "785382458455797760 2016-10-10 02:32:24 Central Daylight Time <thetanmay> Thank you for enduring my impression of Trump talking about how he never completes his sentences.\n",
      "765692578519932928 2016-08-16 18:31:51 Central Daylight Time <thetanmay> No thank you for putting in the time to make us proud. BHARAT MATA KIIIII\n",
      "726471125589364736 2016-04-30 12:59:48 Central Daylight Time <thetanmay> @TheQtiyapaGuy thank u Kumar saab :-*\n",
      "711457092691865600 2016-03-20 02:39:23 Central Daylight Time <thetanmay> .@SriSri infact thank you for the world cup win in 1983 also that was also all you.\n",
      "711456799006658560 2016-03-20 02:38:13 Central Daylight Time <thetanmay> .@SriSri sir thank you so much for coming on the pitch and batting yourself - it was a big pleasant surprise\n"
     ]
    }
   ],
   "source": [
    "# Set up TWINT config\n",
    "c = twint.Config()\n",
    "c.Username = \"Thetanmay\"\n",
    "c.Search = \"Thank\"\n",
    "\n",
    "# Start search\n",
    "twint.run.Search(c)"
   ]
  },
  {
   "cell_type": "code",
   "execution_count": null,
   "metadata": {},
   "outputs": [],
   "source": []
  },
  {
   "cell_type": "code",
   "execution_count": null,
   "metadata": {},
   "outputs": [],
   "source": []
  },
  {
   "cell_type": "code",
   "execution_count": null,
   "metadata": {},
   "outputs": [],
   "source": []
  },
  {
   "cell_type": "code",
   "execution_count": null,
   "metadata": {},
   "outputs": [],
   "source": []
  },
  {
   "cell_type": "code",
   "execution_count": null,
   "metadata": {},
   "outputs": [],
   "source": []
  },
  {
   "cell_type": "code",
   "execution_count": null,
   "metadata": {},
   "outputs": [],
   "source": []
  },
  {
   "cell_type": "code",
   "execution_count": 2,
   "metadata": {},
   "outputs": [],
   "source": [
    "# Set up TWINT config\n",
    "c = twint.Config()"
   ]
  },
  {
   "cell_type": "code",
   "execution_count": 3,
   "metadata": {
    "scrolled": true
   },
   "outputs": [
    {
     "name": "stdout",
     "output_type": "stream",
     "text": [
      "Username: thetanmay | Tweet: @MrMrRajneesh Tsk tsk. Cold shoulder. Tsk tsk. No more pappis . | Retweets: 0 | Likes: 0 | Date: 2012-06-03 | Hashtags: []\n",
      "Username: thetanmay | Tweet: So @gkhamba opens for @thevirdas new show Resentuary at Sura Vie today at 8 pm. Tickets at gate. Go go! | Retweets: 1 | Likes: 0 | Date: 2012-06-02 | Hashtags: []\n",
      "Username: thetanmay | Tweet: @gkhamba *Pappi* | Retweets: 0 | Likes: 0 | Date: 2012-06-01 | Hashtags: []\n",
      "Username: thetanmay | Tweet: @FostersAoC A combination. Need both skills to work this art form. Every comic has his style.Some are delivery heavy - some have great jokes | Retweets: 1 | Likes: 0 | Date: 2012-06-01 | Hashtags: []\n",
      "Username: thetanmay | Tweet: @FostersAoC Me and @stupidusmaximus @gkhamba are usually at the bar discussing our loneliness. | Retweets: 0 | Likes: 0 | Date: 2012-06-01 | Hashtags: []\n",
      "Username: thetanmay | Tweet: @anilwanvari @mojorojo @gkhamba :) | Retweets: 0 | Likes: 0 | Date: 2012-06-01 | Hashtags: []\n",
      "Username: thetanmay | Tweet: @TheHumerus Yaar, spelling ki itni padi hoti toh Calcutta se naam nahi badalna chahiye tha. #PoschamBingo | Retweets: 0 | Likes: 0 | Date: 2012-06-01 | Hashtags: ['#PoschamBingo']\n",
      "Username: thetanmay | Tweet: @krazyfrog What specs on the s3 cam? | Retweets: 0 | Likes: 0 | Date: 2012-05-31 | Hashtags: []\n",
      "Username: thetanmay | Tweet: Anybody know if the iPad3 has personal hotspot feature? | Retweets: 0 | Likes: 0 | Date: 2012-05-31 | Hashtags: []\n",
      "Username: thetanmay | Tweet: What's the better buy? SIII Or OneX? | Retweets: 0 | Likes: 0 | Date: 2012-05-31 | Hashtags: []\n",
      "Username: thetanmay | Tweet: @rameez10 Her bio says she's 19. | Retweets: 0 | Likes: 0 | Date: 2012-02-28 | Hashtags: []\n",
      "Username: thetanmay | Tweet: @ankitsoni Pretty much. She's the new Emma Watson. | Retweets: 0 | Likes: 0 | Date: 2012-02-28 | Hashtags: []\n",
      "Username: thetanmay | Tweet: @ankitsoni Yes. Unfortunately. | Retweets: 0 | Likes: 0 | Date: 2012-02-28 | Hashtags: []\n",
      "Username: thetanmay | Tweet: Also - Poonam Pandey is 19. She's like the Balika Vadhu of slutty people. So, lets relax. #WhosYourDaadiSa | Retweets: 37 | Likes: 13 | Date: 2012-02-28 | Hashtags: ['#WhosYourDaadiSa']\n",
      "Username: thetanmay | Tweet: @StillRiotPlease #45 | Retweets: 0 | Likes: 0 | Date: 2012-02-28 | Hashtags: []\n",
      "Username: thetanmay | Tweet: Twitter: Poonam Pandey :: Pole: Strippers | Retweets: 16 | Likes: 4 | Date: 2012-02-28 | Hashtags: []\n",
      "Username: thetanmay | Tweet: \"Somebody pls tell that Poonam Pandey to strip already. Bunty's been pantless in front of his laptop since 5 pm\" - Mothers from Chandigarh. | Retweets: 37 | Likes: 6 | Date: 2012-02-28 | Hashtags: []\n",
      "Username: thetanmay | Tweet: @neysaa Not bad for 21 days of workout. Should do about 8-9 next month. | Retweets: 0 | Likes: 0 | Date: 2012-02-28 | Hashtags: []\n",
      "Username: thetanmay | Tweet: Will check out measurements tomorrow. Have a feeling have put on muscle weight. So inches results might be better. #45 | Retweets: 0 | Likes: 0 | Date: 2012-02-28 | Hashtags: []\n",
      "Username: thetanmay | Tweet: 6 kilos this month. Out of town for 7 days. Cheat days - 2. Striving to make it 7 by tomorrow night. #45 #NotABadStart | Retweets: 0 | Likes: 1 | Date: 2012-02-28 | Hashtags: ['#NotABadStart']\n"
     ]
    }
   ],
   "source": [
    "c.Username = 'thetanmay'\n",
    "c.Format = \"Username: {username} | Tweet: {tweet} | Retweets: {retweets} | Likes: {likes} | Date: {date} | Hashtags: {hashtags}\"\n",
    "\n",
    "c.Limit = 1\n",
    "c.Year = 2013\n",
    "\n",
    "twint.run.Search(c)"
   ]
  },
  {
   "cell_type": "code",
   "execution_count": 3,
   "metadata": {
    "scrolled": true
   },
   "outputs": [
    {
     "name": "stderr",
     "output_type": "stream",
     "text": [
      "CRITICAL:root:twint.feed:Follow:IndexError\n"
     ]
    }
   ],
   "source": [
    "c.Username = 's___m25'\n",
    "\n",
    "twint.run.Followers(c)"
   ]
  }
 ],
 "metadata": {
  "kernelspec": {
   "display_name": "Python 3",
   "language": "python",
   "name": "python3"
  },
  "language_info": {
   "codemirror_mode": {
    "name": "ipython",
    "version": 3
   },
   "file_extension": ".py",
   "mimetype": "text/x-python",
   "name": "python",
   "nbconvert_exporter": "python",
   "pygments_lexer": "ipython3",
   "version": "3.6.8"
  }
 },
 "nbformat": 4,
 "nbformat_minor": 2
}
